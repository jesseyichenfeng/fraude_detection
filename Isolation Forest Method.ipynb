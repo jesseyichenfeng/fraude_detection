{
 "cells": [
  {
   "cell_type": "code",
   "execution_count": 667,
   "metadata": {},
   "outputs": [],
   "source": [
    "import warnings\n",
    "warnings.filterwarnings(\"ignore\")\n",
    "import pandas as pd\n",
    "import numpy as np\n",
    "import seaborn as sns\n",
    "from sklearn.model_selection import train_test_split\n",
    "from sklearn.preprocessing import MinMaxScaler, StandardScaler, RobustScaler\n",
    "from sklearn.ensemble import IsolationForest\n",
    "from sklearn.metrics import classification_report"
   ]
  },
  {
   "cell_type": "code",
   "execution_count": 668,
   "metadata": {},
   "outputs": [],
   "source": [
    "data = pd.read_csv('account_profile.csv')\n",
    "ids = pd.read_csv('name_matching.csv')\n",
    "ids = ids.drop_duplicates(subset='Seq')"
   ]
  },
  {
   "cell_type": "code",
   "execution_count": 671,
   "metadata": {},
   "outputs": [],
   "source": [
    "data = pd.merge(data,ids,on = 'Seq',how='left')"
   ]
  },
  {
   "cell_type": "code",
   "execution_count": 672,
   "metadata": {},
   "outputs": [],
   "source": [
    "data = data.replace(-102,np.nan)"
   ]
  },
  {
   "cell_type": "markdown",
   "metadata": {},
   "source": [
    "Indicate the missingness of numeric features"
   ]
  },
  {
   "cell_type": "code",
   "execution_count": 673,
   "metadata": {},
   "outputs": [],
   "source": [
    "data['simChangeFreq_Missing'] = np.where(data['simChangeFreq'].isnull(), 1, 0)\n",
    "data['deviceChangeFreq_Missing'] = np.where(data['deviceChangeFreq'].isnull(), 1, 0)\n",
    "data['FirstName_Missing'] = np.where(data['FirstName'].isnull(), 1, 0)\n",
    "data['LastName_Missing'] = np.where(data['LastName'].isnull(), 1, 0)"
   ]
  },
  {
   "cell_type": "markdown",
   "metadata": {},
   "source": [
    "Fill nan with most frequently values"
   ]
  },
  {
   "cell_type": "code",
   "execution_count": 674,
   "metadata": {},
   "outputs": [],
   "source": [
    "data['FirstName'].fillna(100,inplace=True)\n",
    "data['LastName'].fillna(100,inplace=True)\n",
    "data['simChangeFreq'].fillna(0,inplace=True)\n",
    "data['deviceChangeFreq'].fillna(0,inplace=True)"
   ]
  },
  {
   "cell_type": "code",
   "execution_count": 675,
   "metadata": {},
   "outputs": [],
   "source": [
    "data.fillna('Not_Avaliable',inplace=True)"
   ]
  },
  {
   "cell_type": "code",
   "execution_count": 678,
   "metadata": {},
   "outputs": [],
   "source": [
    "data=pd.get_dummies(data, prefix=['AccountStatus', 'AccountType', 'AccountClass', 'CarrierName',\n",
    "       'BrandName', 'deviceMake'],drop_first=True)"
   ]
  },
  {
   "cell_type": "code",
   "execution_count": 680,
   "metadata": {},
   "outputs": [],
   "source": [
    "data1 = data[data['x_amount'] <500]\n",
    "data2 = data[(data['x_amount']>=500)&(data['x_amount']<2000)]\n",
    "data3 = data[(data['x_amount']>=2000)&(data['x_amount']<3000)]\n",
    "data4 = data[(data['x_amount']>=3000)&(data['x_amount']<4000)]\n",
    "data5 = data[data['x_amount']>=4000]"
   ]
  },
  {
   "cell_type": "code",
   "execution_count": 727,
   "metadata": {},
   "outputs": [],
   "source": [
    "def isof(data,n_estimators,max_samples,contamination):\n",
    "    df = data\n",
    "    scaler = RobustScaler()\n",
    "    X = data.drop(['Seq','IsFraud'],axis=1)\n",
    "    x = scaler.fit_transform(X)\n",
    "    clf = IsolationForest(n_estimators=n_estimators,\n",
    "                          max_samples=max_samples,\n",
    "                          contamination=contamination,\n",
    "                         random_state=10)\n",
    "    clf.fit(x)\n",
    "    yp = clf.predict(x)\n",
    "    df['yp'] = yp\n",
    "    df['yp'] = df['yp'].replace(1,0)\n",
    "    df['yp'] = df['yp'].replace(-1,2)\n",
    "    print(classification_report(df['IsFraud'],df['yp']))\n",
    "    print('number of detected='+str(len(df[df['yp']==2])))\n",
    "    return df\n",
    "                        "
   ]
  },
  {
   "cell_type": "code",
   "execution_count": 682,
   "metadata": {},
   "outputs": [
    {
     "name": "stdout",
     "output_type": "stream",
     "text": [
      "Total loss Caused by Fraud Transactions: $231658.32\n"
     ]
    }
   ],
   "source": [
    "save_money = 0\n",
    "for i in data.index:\n",
    "    if (data['IsFraud'][i]==2):\n",
    "        save_money = save_money+data['x_amount'][i]\n",
    "    else:\n",
    "        pass\n",
    "print('Total loss Caused by Fraud Transactions: $'+str(round(save_money,2)))\n",
    "total_loss = round(save_money,2)"
   ]
  },
  {
   "cell_type": "code",
   "execution_count": 694,
   "metadata": {},
   "outputs": [
    {
     "name": "stdout",
     "output_type": "stream",
     "text": [
      "Total avoid loss: $25564.54\n",
      "loss avoid percentage: 11.04%\n"
     ]
    }
   ],
   "source": [
    "data_sample = data.sample(frac=0.1,random_state=111)\n",
    "save_money = 0\n",
    "for i in data_sample.index:\n",
    "    if (data_sample['IsFraud'][i]==2):\n",
    "        save_money = save_money+data_sample['x_amount'][i]\n",
    "    else:\n",
    "        pass\n",
    "print('Total avoid loss: $'+str(round(save_money,2)))\n",
    "\n",
    "print('loss avoid percentage: '+ str(round((round(save_money,2)/total_loss)*100,2))+'%')"
   ]
  },
  {
   "cell_type": "code",
   "execution_count": 740,
   "metadata": {},
   "outputs": [
    {
     "name": "stdout",
     "output_type": "stream",
     "text": [
      "              precision    recall  f1-score   support\n",
      "\n",
      "           0       0.98      0.91      0.94      5233\n",
      "           2       0.07      0.31      0.12       130\n",
      "\n",
      "    accuracy                           0.89      5363\n",
      "   macro avg       0.53      0.61      0.53      5363\n",
      "weighted avg       0.96      0.89      0.92      5363\n",
      "\n",
      "number of detected=537\n"
     ]
    }
   ],
   "source": [
    "data0 = isof(data,2000,5400,0.1)"
   ]
  },
  {
   "cell_type": "code",
   "execution_count": 741,
   "metadata": {},
   "outputs": [
    {
     "name": "stdout",
     "output_type": "stream",
     "text": [
      "Total avoid loss: $117945.94\n",
      "loss avoid percentage: 50.91%\n"
     ]
    }
   ],
   "source": [
    "\n",
    "save_money = 0\n",
    "for i in data0.index:\n",
    "    if (data0['yp'][i]==2)&(data0['IsFraud'][i]==2):\n",
    "        save_money = save_money+data0['x_amount'][i]\n",
    "    else:\n",
    "        pass\n",
    "print('Total avoid loss: $'+str(round(save_money,2)))\n",
    "\n",
    "print('loss avoid percentage: '+ str(round((round(save_money,2)/total_loss)*100,2))+'%')"
   ]
  },
  {
   "cell_type": "code",
   "execution_count": 730,
   "metadata": {
    "scrolled": true
   },
   "outputs": [
    {
     "name": "stdout",
     "output_type": "stream",
     "text": [
      "              precision    recall  f1-score   support\n",
      "\n",
      "           0       0.99      1.00      0.99      1198\n",
      "           2       0.00      0.00      0.00        14\n",
      "\n",
      "    accuracy                           0.99      1212\n",
      "   macro avg       0.49      0.50      0.50      1212\n",
      "weighted avg       0.98      0.99      0.98      1212\n",
      "\n",
      "number of detected=0\n"
     ]
    }
   ],
   "source": [
    "data1_p = isof(data1,2000,5400,0)"
   ]
  },
  {
   "cell_type": "code",
   "execution_count": 731,
   "metadata": {
    "scrolled": true
   },
   "outputs": [
    {
     "name": "stdout",
     "output_type": "stream",
     "text": [
      "              precision    recall  f1-score   support\n",
      "\n",
      "           0       0.98      0.95      0.96      3373\n",
      "           2       0.06      0.12      0.08        82\n",
      "\n",
      "    accuracy                           0.93      3455\n",
      "   macro avg       0.52      0.54      0.52      3455\n",
      "weighted avg       0.96      0.93      0.94      3455\n",
      "\n",
      "number of detected=173\n"
     ]
    }
   ],
   "source": [
    "data2_p = isof(data2,2000,5400,0.05)"
   ]
  },
  {
   "cell_type": "code",
   "execution_count": 732,
   "metadata": {},
   "outputs": [
    {
     "name": "stdout",
     "output_type": "stream",
     "text": [
      "              precision    recall  f1-score   support\n",
      "\n",
      "           0       0.99      0.52      0.68       272\n",
      "           2       0.08      0.85      0.14        13\n",
      "\n",
      "    accuracy                           0.53       285\n",
      "   macro avg       0.53      0.68      0.41       285\n",
      "weighted avg       0.94      0.53      0.65       285\n",
      "\n",
      "number of detected=142\n"
     ]
    }
   ],
   "source": [
    "data3_p = isof(data3,2000,5400,0.5)"
   ]
  },
  {
   "cell_type": "code",
   "execution_count": 733,
   "metadata": {},
   "outputs": [
    {
     "name": "stdout",
     "output_type": "stream",
     "text": [
      "              precision    recall  f1-score   support\n",
      "\n",
      "           0       0.99      0.51      0.68       345\n",
      "           2       0.05      0.90      0.10        10\n",
      "\n",
      "    accuracy                           0.52       355\n",
      "   macro avg       0.52      0.71      0.39       355\n",
      "weighted avg       0.97      0.52      0.66       355\n",
      "\n",
      "number of detected=177\n"
     ]
    }
   ],
   "source": [
    "data4_p = isof(data4,2000,5400,0.5)"
   ]
  },
  {
   "cell_type": "code",
   "execution_count": 734,
   "metadata": {
    "scrolled": true
   },
   "outputs": [
    {
     "name": "stdout",
     "output_type": "stream",
     "text": [
      "              precision    recall  f1-score   support\n",
      "\n",
      "           0       1.00      0.27      0.42        45\n",
      "           2       0.25      1.00      0.40        11\n",
      "\n",
      "    accuracy                           0.41        56\n",
      "   macro avg       0.62      0.63      0.41        56\n",
      "weighted avg       0.85      0.41      0.42        56\n",
      "\n",
      "number of detected=44\n"
     ]
    }
   ],
   "source": [
    "data5_p = isof(data5,2000,5400,0.8)"
   ]
  },
  {
   "cell_type": "code",
   "execution_count": 735,
   "metadata": {},
   "outputs": [],
   "source": [
    "data_p = data1_p.append(data2_p).append(data3_p).append(data4_p).append(data5_p)"
   ]
  },
  {
   "cell_type": "code",
   "execution_count": 736,
   "metadata": {},
   "outputs": [
    {
     "name": "stdout",
     "output_type": "stream",
     "text": [
      "              precision    recall  f1-score   support\n",
      "\n",
      "           0       0.98      0.91      0.94      5233\n",
      "           2       0.08      0.32      0.12       130\n",
      "\n",
      "    accuracy                           0.89      5363\n",
      "   macro avg       0.53      0.61      0.53      5363\n",
      "weighted avg       0.96      0.89      0.92      5363\n",
      "\n"
     ]
    }
   ],
   "source": [
    "print(classification_report(data_p['IsFraud'],data_p['yp']))"
   ]
  },
  {
   "cell_type": "code",
   "execution_count": 737,
   "metadata": {},
   "outputs": [
    {
     "name": "stdout",
     "output_type": "stream",
     "text": [
      "Total avoid loss: $129321.23\n",
      "loss avoid percentage: 55.82%\n"
     ]
    }
   ],
   "source": [
    "save_money = 0\n",
    "for i in data_p.index:\n",
    "    if (data_p['yp'][i]==2)&(data_p['IsFraud'][i]==2):\n",
    "        save_money = save_money+data_p['x_amount'][i]\n",
    "    else:\n",
    "        pass\n",
    "print('Total avoid loss: $'+str(round(save_money,2)))\n",
    "\n",
    "print('loss avoid percentage: '+ str(round((round(save_money,2)/total_loss)*100,2))+'%')"
   ]
  }
 ],
 "metadata": {
  "kernelspec": {
   "display_name": "Python 3",
   "language": "python",
   "name": "python3"
  },
  "language_info": {
   "codemirror_mode": {
    "name": "ipython",
    "version": 3
   },
   "file_extension": ".py",
   "mimetype": "text/x-python",
   "name": "python",
   "nbconvert_exporter": "python",
   "pygments_lexer": "ipython3",
   "version": "3.7.3"
  }
 },
 "nbformat": 4,
 "nbformat_minor": 2
}
