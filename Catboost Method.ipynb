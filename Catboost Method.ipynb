{
 "cells": [
  {
   "cell_type": "code",
   "execution_count": 1,
   "metadata": {},
   "outputs": [
    {
     "data": {
      "text/html": [
       "        <script type=\"text/javascript\">\n",
       "        window.PlotlyConfig = {MathJaxConfig: 'local'};\n",
       "        if (window.MathJax) {MathJax.Hub.Config({SVG: {font: \"STIX-Web\"}});}\n",
       "        if (typeof require !== 'undefined') {\n",
       "        require.undef(\"plotly\");\n",
       "        requirejs.config({\n",
       "            paths: {\n",
       "                'plotly': ['https://cdn.plot.ly/plotly-latest.min']\n",
       "            }\n",
       "        });\n",
       "        require(['plotly'], function(Plotly) {\n",
       "            window._Plotly = Plotly;\n",
       "        });\n",
       "        }\n",
       "        </script>\n",
       "        "
      ]
     },
     "metadata": {},
     "output_type": "display_data"
    }
   ],
   "source": [
    "import warnings\n",
    "warnings.filterwarnings(\"ignore\")\n",
    "import pandas as pd\n",
    "import numpy as np\n",
    "import pandas_exploration_util.viz.explore as pe\n",
    "import seaborn as sns\n",
    "import pandas_exploration_util.stats as ps\n",
    "from sklearn.model_selection import train_test_split,GridSearchCV\n",
    "from catboost import CatBoostClassifier\n",
    "from sklearn.preprocessing import MinMaxScaler, StandardScaler, RobustScaler\n",
    "from sklearn.metrics import classification_report\n",
    "from imblearn.over_sampling import RandomOverSampler\n",
    "from imblearn.under_sampling import RandomUnderSampler"
   ]
  },
  {
   "cell_type": "code",
   "execution_count": 2,
   "metadata": {},
   "outputs": [],
   "source": [
    "data = pd.read_csv('account_profile.csv')\n",
    "ids = pd.read_csv('name_matching.csv')\n",
    "ids = ids.drop_duplicates(subset='Seq')\n",
    "data = pd.merge(data,ids,on = 'Seq',how='left')\n",
    "data = data.replace(-102,np.nan)"
   ]
  },
  {
   "cell_type": "code",
   "execution_count": 3,
   "metadata": {},
   "outputs": [],
   "source": [
    "#Indicate the Missingness of numeric features\n",
    "data['simChangeFreq_Missing'] = np.where(data['simChangeFreq'].isnull(), 1, 0)\n",
    "data['deviceChangeFreq_Missing'] = np.where(data['deviceChangeFreq'].isnull(), 1, 0)\n",
    "data['FirstName_Missing'] = np.where(data['FirstName'].isnull(), 1, 0)\n",
    "data['LastName_Missing'] = np.where(data['LastName'].isnull(), 1, 0)\n",
    "data['FirstName'].fillna(100,inplace=True)\n",
    "data['LastName'].fillna(100,inplace=True)\n",
    "data['simChangeFreq'].fillna(0,inplace=True)\n",
    "data['deviceChangeFreq'].fillna(0,inplace=True)"
   ]
  },
  {
   "cell_type": "code",
   "execution_count": 4,
   "metadata": {},
   "outputs": [],
   "source": [
    "data.fillna('Not_Avaliable',inplace=True)\n",
    "data=pd.get_dummies(data, prefix=['AccountStatus', 'AccountType', 'AccountClass', 'CarrierName',\n",
    "       'BrandName', 'deviceMake'],drop_first=True)"
   ]
  },
  {
   "cell_type": "code",
   "execution_count": 5,
   "metadata": {},
   "outputs": [],
   "source": [
    "data_train,data_test = train_test_split(data,test_size = 0.5,random_state = 10)"
   ]
  },
  {
   "cell_type": "code",
   "execution_count": 6,
   "metadata": {},
   "outputs": [],
   "source": [
    "X = data_train.drop(['Seq','IsFraud'],axis=1)\n",
    "Y = data_train['IsFraud']\n",
    "X_test = data_test.drop(['Seq','IsFraud'],axis=1)\n",
    "Y_test = data_test['IsFraud']"
   ]
  },
  {
   "cell_type": "code",
   "execution_count": 7,
   "metadata": {},
   "outputs": [],
   "source": [
    "scaler = RobustScaler()\n",
    "scaler = scaler.fit(X)\n",
    "x_train = scaler.transform(X)\n",
    "x_test = scaler.transform(X_test)"
   ]
  },
  {
   "cell_type": "code",
   "execution_count": 8,
   "metadata": {},
   "outputs": [],
   "source": [
    "# ros = RandomOverSampler(random_state=10)\n",
    "# x_train,y_train = ros.fit_resample(x_train,y_train)"
   ]
  },
  {
   "cell_type": "code",
   "execution_count": 9,
   "metadata": {},
   "outputs": [],
   "source": [
    "rus = RandomUnderSampler(random_state=10)\n",
    "x_train,y_train = rus.fit_resample(x_train,Y)"
   ]
  },
  {
   "cell_type": "code",
   "execution_count": 10,
   "metadata": {},
   "outputs": [],
   "source": [
    "# model = CatBoostClassifier(n_estimators=1000,class_weights=[1,100])"
   ]
  },
  {
   "cell_type": "code",
   "execution_count": 11,
   "metadata": {},
   "outputs": [],
   "source": [
    "# parameters = {\n",
    "#     'learning_rate': [0.1,0.05,0.02],\n",
    "#     'depth':[6,8,10],\n",
    "#     'rsm':[0.3,0.5,1],\n",
    "# }"
   ]
  },
  {
   "cell_type": "code",
   "execution_count": 12,
   "metadata": {},
   "outputs": [],
   "source": [
    "# GSCV = GridSearchCV(estimator = model, param_grid=parameters,cv = 3,scoring='balanced_accuracy')"
   ]
  },
  {
   "cell_type": "code",
   "execution_count": 13,
   "metadata": {},
   "outputs": [],
   "source": [
    "# GSCV.fit(x_train,y_train)"
   ]
  },
  {
   "cell_type": "code",
   "execution_count": 14,
   "metadata": {},
   "outputs": [],
   "source": [
    "model = CatBoostClassifier(n_estimators=2000,learning_rate = 0.1,class_weights=[1,100],depth = 10,rsm = 0.5)"
   ]
  },
  {
   "cell_type": "code",
   "execution_count": 15,
   "metadata": {},
   "outputs": [
    {
     "name": "stdout",
     "output_type": "stream",
     "text": [
      "0:\tlearn: 0.5399761\ttotal: 215ms\tremaining: 7m 9s\n",
      "200:\tlearn: 0.0393947\ttotal: 12.1s\tremaining: 1m 48s\n",
      "400:\tlearn: 0.0261732\ttotal: 36.1s\tremaining: 2m 24s\n",
      "600:\tlearn: 0.0195823\ttotal: 59.1s\tremaining: 2m 17s\n",
      "800:\tlearn: 0.0159798\ttotal: 1m 21s\tremaining: 2m 1s\n",
      "1000:\tlearn: 0.0138598\ttotal: 1m 42s\tremaining: 1m 42s\n",
      "1200:\tlearn: 0.0123314\ttotal: 2m 3s\tremaining: 1m 22s\n",
      "1400:\tlearn: 0.0112881\ttotal: 2m 24s\tremaining: 1m 1s\n",
      "1600:\tlearn: 0.0103109\ttotal: 2m 45s\tremaining: 41.3s\n",
      "1800:\tlearn: 0.0094738\ttotal: 3m 9s\tremaining: 20.9s\n",
      "1999:\tlearn: 0.0088812\ttotal: 3m 29s\tremaining: 0us\n"
     ]
    },
    {
     "data": {
      "text/plain": [
       "<catboost.core.CatBoostClassifier at 0x1a24d45f28>"
      ]
     },
     "execution_count": 15,
     "metadata": {},
     "output_type": "execute_result"
    }
   ],
   "source": [
    "model.fit(x_train,y_train,metric_period=200)"
   ]
  },
  {
   "cell_type": "code",
   "execution_count": 16,
   "metadata": {},
   "outputs": [],
   "source": [
    "yp = model.predict_proba(x_test)"
   ]
  },
  {
   "cell_type": "code",
   "execution_count": 17,
   "metadata": {},
   "outputs": [],
   "source": [
    "yp = [i[1] for i in yp]"
   ]
  },
  {
   "cell_type": "code",
   "execution_count": 18,
   "metadata": {},
   "outputs": [],
   "source": [
    "thrh = np.percentile(yp,90)"
   ]
  },
  {
   "cell_type": "code",
   "execution_count": 19,
   "metadata": {},
   "outputs": [],
   "source": [
    "yp = [0 if i<thrh else 2 for i in yp ]"
   ]
  },
  {
   "cell_type": "code",
   "execution_count": 21,
   "metadata": {},
   "outputs": [
    {
     "name": "stdout",
     "output_type": "stream",
     "text": [
      "              precision    recall  f1-score   support\n",
      "\n",
      "           0       0.98      0.90      0.94      2615\n",
      "           2       0.05      0.21      0.08        67\n",
      "\n",
      "    accuracy                           0.88      2682\n",
      "   macro avg       0.51      0.56      0.51      2682\n",
      "weighted avg       0.95      0.88      0.92      2682\n",
      "\n"
     ]
    }
   ],
   "source": [
    "print(classification_report(Y_test,yp))"
   ]
  },
  {
   "cell_type": "code",
   "execution_count": 22,
   "metadata": {},
   "outputs": [],
   "source": [
    "data_test['yp'] = yp"
   ]
  },
  {
   "cell_type": "code",
   "execution_count": 23,
   "metadata": {},
   "outputs": [
    {
     "name": "stdout",
     "output_type": "stream",
     "text": [
      "Total loss Caused by Fraud Transactions: $121712.31\n"
     ]
    }
   ],
   "source": [
    "save_money = 0\n",
    "for i in data_test.index:\n",
    "    if (data_test['IsFraud'][i]==2):\n",
    "        save_money = save_money+data_test['x_amount'][i]\n",
    "    else:\n",
    "        pass\n",
    "print('Total loss Caused by Fraud Transactions: $'+str(round(save_money,2)))\n",
    "total_loss = round(save_money,2)"
   ]
  },
  {
   "cell_type": "code",
   "execution_count": 24,
   "metadata": {},
   "outputs": [
    {
     "name": "stdout",
     "output_type": "stream",
     "text": [
      "Total avoid loss: $45923.35\n",
      "loss avoid percentage: 37.73%\n"
     ]
    }
   ],
   "source": [
    "save_money = 0\n",
    "for i in data_test.index:\n",
    "    if (data_test['yp'][i]==2)&(data_test['IsFraud'][i]==2):\n",
    "        save_money = save_money+data_test['x_amount'][i]\n",
    "    else:\n",
    "        pass\n",
    "print('Total avoid loss: $'+str(round(save_money,2)))\n",
    "\n",
    "print('loss avoid percentage: '+ str(round((round(save_money,2)/total_loss)*100,2))+'%')"
   ]
  },
  {
   "cell_type": "code",
   "execution_count": 25,
   "metadata": {},
   "outputs": [],
   "source": [
    "yp = model.predict_proba(x_test)\n",
    "yp = [i[1] for i in yp]"
   ]
  },
  {
   "cell_type": "code",
   "execution_count": 26,
   "metadata": {},
   "outputs": [],
   "source": [
    "data_test['yp'] = yp"
   ]
  },
  {
   "cell_type": "code",
   "execution_count": 27,
   "metadata": {},
   "outputs": [],
   "source": [
    "data_test['yp']=[data_test['yp'][i]*data_test['x_amount'][i] for i in data_test.index]"
   ]
  },
  {
   "cell_type": "code",
   "execution_count": 28,
   "metadata": {},
   "outputs": [],
   "source": [
    "thrh = np.percentile(data_test['yp'],90)"
   ]
  },
  {
   "cell_type": "code",
   "execution_count": 29,
   "metadata": {},
   "outputs": [],
   "source": [
    "data_test['yp'] = [0 if i<thrh else 2 for i in data_test['yp'] ]"
   ]
  },
  {
   "cell_type": "code",
   "execution_count": 30,
   "metadata": {},
   "outputs": [
    {
     "data": {
      "text/plain": [
       "269"
      ]
     },
     "execution_count": 30,
     "metadata": {},
     "output_type": "execute_result"
    }
   ],
   "source": [
    "len(data_test[data_test['yp']==2])"
   ]
  },
  {
   "cell_type": "code",
   "execution_count": 31,
   "metadata": {},
   "outputs": [
    {
     "name": "stdout",
     "output_type": "stream",
     "text": [
      "Total avoid loss: $65877.78\n",
      "loss avoid percentage: 54.13%\n"
     ]
    }
   ],
   "source": [
    "save_money = 0\n",
    "for i in data_test.index:\n",
    "    if (data_test['yp'][i]==2)&(data_test['IsFraud'][i]==2):\n",
    "        save_money = save_money+data_test['x_amount'][i]\n",
    "    else:\n",
    "        pass\n",
    "print('Total avoid loss: $'+str(round(save_money,2)))\n",
    "\n",
    "print('loss avoid percentage: '+ str(round((round(save_money,2)/total_loss)*100,2))+'%')"
   ]
  },
  {
   "cell_type": "code",
   "execution_count": null,
   "metadata": {},
   "outputs": [],
   "source": []
  }
 ],
 "metadata": {
  "kernelspec": {
   "display_name": "Python 3",
   "language": "python",
   "name": "python3"
  },
  "language_info": {
   "codemirror_mode": {
    "name": "ipython",
    "version": 3
   },
   "file_extension": ".py",
   "mimetype": "text/x-python",
   "name": "python",
   "nbconvert_exporter": "python",
   "pygments_lexer": "ipython3",
   "version": "3.7.3"
  }
 },
 "nbformat": 4,
 "nbformat_minor": 2
}
